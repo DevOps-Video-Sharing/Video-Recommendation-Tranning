{
  "nbformat": 4,
  "nbformat_minor": 0,
  "metadata": {
    "colab": {
      "provenance": [],
      "gpuType": "V28"
    },
    "kernelspec": {
      "name": "python3",
      "display_name": "Python 3"
    },
    "language_info": {
      "name": "python"
    },
    "accelerator": "TPU"
  },
  "cells": [
    {
      "cell_type": "code",
      "source": [
        "!pip install tensorflow\n",
        "!pip install tfrecord\n"
      ],
      "metadata": {
        "colab": {
          "base_uri": "https://localhost:8080/"
        },
        "id": "sxyYN2D5JdF0",
        "outputId": "2df961ec-a3cc-4673-d502-995feb723cf9"
      },
      "execution_count": 1,
      "outputs": [
        {
          "output_type": "stream",
          "name": "stdout",
          "text": [
            "Requirement already satisfied: tensorflow in /usr/local/lib/python3.10/dist-packages (2.15.0)\n",
            "Requirement already satisfied: absl-py>=1.0.0 in /usr/local/lib/python3.10/dist-packages (from tensorflow) (1.4.0)\n",
            "Requirement already satisfied: astunparse>=1.6.0 in /usr/local/lib/python3.10/dist-packages (from tensorflow) (1.6.3)\n",
            "Requirement already satisfied: flatbuffers>=23.5.26 in /usr/local/lib/python3.10/dist-packages (from tensorflow) (24.3.25)\n",
            "Requirement already satisfied: gast!=0.5.0,!=0.5.1,!=0.5.2,>=0.2.1 in /usr/local/lib/python3.10/dist-packages (from tensorflow) (0.6.0)\n",
            "Requirement already satisfied: google-pasta>=0.1.1 in /usr/local/lib/python3.10/dist-packages (from tensorflow) (0.2.0)\n",
            "Requirement already satisfied: h5py>=2.9.0 in /usr/local/lib/python3.10/dist-packages (from tensorflow) (3.12.1)\n",
            "Requirement already satisfied: libclang>=13.0.0 in /usr/local/lib/python3.10/dist-packages (from tensorflow) (18.1.1)\n",
            "Requirement already satisfied: ml-dtypes~=0.2.0 in /usr/local/lib/python3.10/dist-packages (from tensorflow) (0.2.0)\n",
            "Requirement already satisfied: numpy<2.0.0,>=1.23.5 in /usr/local/lib/python3.10/dist-packages (from tensorflow) (1.26.4)\n",
            "Requirement already satisfied: opt-einsum>=2.3.2 in /usr/local/lib/python3.10/dist-packages (from tensorflow) (3.4.0)\n",
            "Requirement already satisfied: packaging in /usr/local/lib/python3.10/dist-packages (from tensorflow) (24.1)\n",
            "Requirement already satisfied: protobuf!=4.21.0,!=4.21.1,!=4.21.2,!=4.21.3,!=4.21.4,!=4.21.5,<5.0.0dev,>=3.20.3 in /usr/local/lib/python3.10/dist-packages (from tensorflow) (3.20.3)\n",
            "Requirement already satisfied: setuptools in /usr/local/lib/python3.10/dist-packages (from tensorflow) (71.0.4)\n",
            "Requirement already satisfied: six>=1.12.0 in /usr/local/lib/python3.10/dist-packages (from tensorflow) (1.16.0)\n",
            "Requirement already satisfied: termcolor>=1.1.0 in /usr/local/lib/python3.10/dist-packages (from tensorflow) (2.4.0)\n",
            "Requirement already satisfied: typing-extensions>=3.6.6 in /usr/local/lib/python3.10/dist-packages (from tensorflow) (4.12.2)\n",
            "Requirement already satisfied: wrapt<1.15,>=1.11.0 in /usr/local/lib/python3.10/dist-packages (from tensorflow) (1.14.1)\n",
            "Requirement already satisfied: tensorflow-io-gcs-filesystem>=0.23.1 in /usr/local/lib/python3.10/dist-packages (from tensorflow) (0.37.1)\n",
            "Requirement already satisfied: grpcio<2.0,>=1.24.3 in /usr/local/lib/python3.10/dist-packages (from tensorflow) (1.66.2)\n",
            "Requirement already satisfied: tensorboard<2.16,>=2.15 in /usr/local/lib/python3.10/dist-packages (from tensorflow) (2.15.2)\n",
            "Requirement already satisfied: tensorflow-estimator<2.16,>=2.15.0 in /usr/local/lib/python3.10/dist-packages (from tensorflow) (2.15.0)\n",
            "Requirement already satisfied: keras<2.16,>=2.15.0 in /usr/local/lib/python3.10/dist-packages (from tensorflow) (2.15.0)\n",
            "Requirement already satisfied: wheel<1.0,>=0.23.0 in /usr/local/lib/python3.10/dist-packages (from astunparse>=1.6.0->tensorflow) (0.44.0)\n",
            "Requirement already satisfied: google-auth<3,>=1.6.3 in /usr/local/lib/python3.10/dist-packages (from tensorboard<2.16,>=2.15->tensorflow) (2.27.0)\n",
            "Requirement already satisfied: google-auth-oauthlib<2,>=0.5 in /usr/local/lib/python3.10/dist-packages (from tensorboard<2.16,>=2.15->tensorflow) (1.2.1)\n",
            "Requirement already satisfied: markdown>=2.6.8 in /usr/local/lib/python3.10/dist-packages (from tensorboard<2.16,>=2.15->tensorflow) (3.7)\n",
            "Requirement already satisfied: requests<3,>=2.21.0 in /usr/local/lib/python3.10/dist-packages (from tensorboard<2.16,>=2.15->tensorflow) (2.32.3)\n",
            "Requirement already satisfied: tensorboard-data-server<0.8.0,>=0.7.0 in /usr/local/lib/python3.10/dist-packages (from tensorboard<2.16,>=2.15->tensorflow) (0.7.2)\n",
            "Requirement already satisfied: werkzeug>=1.0.1 in /usr/local/lib/python3.10/dist-packages (from tensorboard<2.16,>=2.15->tensorflow) (3.0.4)\n",
            "Requirement already satisfied: cachetools<6.0,>=2.0.0 in /usr/local/lib/python3.10/dist-packages (from google-auth<3,>=1.6.3->tensorboard<2.16,>=2.15->tensorflow) (5.5.0)\n",
            "Requirement already satisfied: pyasn1-modules>=0.2.1 in /usr/local/lib/python3.10/dist-packages (from google-auth<3,>=1.6.3->tensorboard<2.16,>=2.15->tensorflow) (0.4.1)\n",
            "Requirement already satisfied: rsa<5,>=3.1.4 in /usr/local/lib/python3.10/dist-packages (from google-auth<3,>=1.6.3->tensorboard<2.16,>=2.15->tensorflow) (4.9)\n",
            "Requirement already satisfied: requests-oauthlib>=0.7.0 in /usr/local/lib/python3.10/dist-packages (from google-auth-oauthlib<2,>=0.5->tensorboard<2.16,>=2.15->tensorflow) (2.0.0)\n",
            "Requirement already satisfied: charset-normalizer<4,>=2 in /usr/local/lib/python3.10/dist-packages (from requests<3,>=2.21.0->tensorboard<2.16,>=2.15->tensorflow) (3.3.2)\n",
            "Requirement already satisfied: idna<4,>=2.5 in /usr/local/lib/python3.10/dist-packages (from requests<3,>=2.21.0->tensorboard<2.16,>=2.15->tensorflow) (3.10)\n",
            "Requirement already satisfied: urllib3<3,>=1.21.1 in /usr/local/lib/python3.10/dist-packages (from requests<3,>=2.21.0->tensorboard<2.16,>=2.15->tensorflow) (2.2.3)\n",
            "Requirement already satisfied: certifi>=2017.4.17 in /usr/local/lib/python3.10/dist-packages (from requests<3,>=2.21.0->tensorboard<2.16,>=2.15->tensorflow) (2024.8.30)\n",
            "Requirement already satisfied: MarkupSafe>=2.1.1 in /usr/local/lib/python3.10/dist-packages (from werkzeug>=1.0.1->tensorboard<2.16,>=2.15->tensorflow) (2.1.5)\n",
            "Requirement already satisfied: pyasn1<0.7.0,>=0.4.6 in /usr/local/lib/python3.10/dist-packages (from pyasn1-modules>=0.2.1->google-auth<3,>=1.6.3->tensorboard<2.16,>=2.15->tensorflow) (0.6.1)\n",
            "Requirement already satisfied: oauthlib>=3.0.0 in /usr/local/lib/python3.10/dist-packages (from requests-oauthlib>=0.7.0->google-auth-oauthlib<2,>=0.5->tensorboard<2.16,>=2.15->tensorflow) (3.2.2)\n",
            "Collecting tfrecord\n",
            "  Downloading tfrecord-1.14.5.tar.gz (15 kB)\n",
            "  Preparing metadata (setup.py) ... \u001b[?25l\u001b[?25hdone\n",
            "Requirement already satisfied: numpy in /usr/local/lib/python3.10/dist-packages (from tfrecord) (1.26.4)\n",
            "Requirement already satisfied: protobuf in /usr/local/lib/python3.10/dist-packages (from tfrecord) (3.20.3)\n",
            "Collecting crc32c (from tfrecord)\n",
            "  Downloading crc32c-2.7.1-cp310-cp310-manylinux_2_5_x86_64.manylinux1_x86_64.manylinux_2_17_x86_64.manylinux2014_x86_64.whl.metadata (7.3 kB)\n",
            "Downloading crc32c-2.7.1-cp310-cp310-manylinux_2_5_x86_64.manylinux1_x86_64.manylinux_2_17_x86_64.manylinux2014_x86_64.whl (52 kB)\n",
            "\u001b[2K   \u001b[90m━━━━━━━━━━━━━━━━━━━━━━━━━━━━━━━━━━━━━━━━\u001b[0m \u001b[32m52.9/52.9 kB\u001b[0m \u001b[31m2.0 MB/s\u001b[0m eta \u001b[36m0:00:00\u001b[0m\n",
            "\u001b[?25hBuilding wheels for collected packages: tfrecord\n",
            "  Building wheel for tfrecord (setup.py) ... \u001b[?25l\u001b[?25hdone\n",
            "  Created wheel for tfrecord: filename=tfrecord-1.14.5-py3-none-any.whl size=14907 sha256=f56ac9f4644ba15e2af7eb6617aa085b7309199b75072636b934e5d8b1c299fd\n",
            "  Stored in directory: /root/.cache/pip/wheels/1d/c1/9d/7a575d075fde1b0c5e910bd3baffd13e8dee088323f0f07797\n",
            "Successfully built tfrecord\n",
            "Installing collected packages: crc32c, tfrecord\n",
            "Successfully installed crc32c-2.7.1 tfrecord-1.14.5\n"
          ]
        }
      ]
    },
    {
      "cell_type": "code",
      "source": [
        "!rm -f yt8m_data/*.tfrecord\n"
      ],
      "metadata": {
        "id": "11EykLTrLBpn"
      },
      "execution_count": 2,
      "outputs": []
    },
    {
      "cell_type": "code",
      "source": [
        "import os\n",
        "\n",
        "# Tạo thư mục nếu chưa tồn tại\n",
        "os.makedirs('yt8m_data', exist_ok=True)\n",
        "\n",
        "# Số lượng file muốn tải về\n",
        "num_files = 3844  # Thay đổi giá trị này nếu cần\n",
        "\n",
        "# Định nghĩa các ký tự cho x và y\n",
        "chars_x = ['a', 'b', 'c', 'd', 'e', 'f', 'g', 'h', 'i', 'j', 'k', 'l', 'm', 'n', 'o', 'p', 'q', 'r', 's', 't', 'u', 'v', 'w', 'x', 'y', 'z', 'A', 'B', 'C', 'D', 'E', 'F', 'G', 'H', 'I', 'J', 'K', 'L', 'M', 'N', 'O', 'P', 'Q', 'R', 'S', 'T', 'U', 'V', 'W', 'X', 'Y', 'Z', '0', '1', '2', '3', '4', '5', '6', '7', '8', '9']  # Thêm các ký tự khác nếu cần\n",
        "chars_y = ['a', 'b', 'c', 'd', 'e', 'f', 'g', 'h', 'i', 'j', 'k', 'l', 'm', 'n', 'o', 'p', 'q', 'r', 's', 't', 'u', 'v', 'w', 'x', 'y', 'z', 'A', 'B', 'C', 'D', 'E', 'F', 'G', 'H', 'I', 'J', 'K', 'L', 'M', 'N', 'O', 'P', 'Q', 'R', 'S', 'T', 'U', 'V', 'W', 'X', 'Y', 'Z', '0', '1', '2', '3', '4', '5', '6', '7', '8', '9']  # Thêm các ký tự khác nếu cần\n",
        "\n",
        "# Tạo danh sách file_paths\n",
        "file_paths = [f\"yt8m_data/train{cx}{cy}.tfrecord\" for cx in chars_x for cy in chars_y]\n",
        "\n",
        "# Giới hạn số lượng file theo num_files\n",
        "file_paths = file_paths[:num_files]\n",
        "\n",
        "# Tải về các file (nếu cần)\n",
        "for fp in file_paths:\n",
        "    url = f'http://us.data.yt8m.org/2/video/train/{os.path.basename(fp)}'\n",
        "    os.system(f'wget -P yt8m_data/ {url}')\n",
        "\n",
        "# Tạo dataset cho từng file\n",
        "# datasets = [create_dataset(fp) for fp in file_paths]\n",
        "\n"
      ],
      "metadata": {
        "id": "Qe40E-6ZJgL1"
      },
      "execution_count": 2,
      "outputs": []
    },
    {
      "cell_type": "code",
      "source": [
        "import tensorflow as tf\n",
        "\n",
        "# Định nghĩa hàm giải mã các mẫu từ tfrecord\n",
        "def parse_tfrecord_fn(example):\n",
        "    feature_description = {\n",
        "        'id': tf.io.FixedLenFeature([], tf.string),\n",
        "        'labels': tf.io.VarLenFeature(tf.int64),\n",
        "        'mean_audio': tf.io.FixedLenFeature([128], tf.float32),  # Mean audio với 128 chiều\n",
        "    }\n",
        "    parsed_example = tf.io.parse_single_example(example, feature_description)\n",
        "    parsed_example['labels'] = tf.sparse.to_dense(parsed_example['labels'])  # Chuyển labels từ sparse sang dense\n",
        "    return parsed_example\n",
        "\n",
        "# Hàm để tạo dataset từ file .tfrecord\n",
        "def create_dataset(file_path):\n",
        "    raw_dataset = tf.data.TFRecordDataset(file_path)\n",
        "    dataset = raw_dataset.map(parse_tfrecord_fn)\n",
        "    return dataset\n",
        "\n",
        "# Số lượng file muốn sử dụng\n",
        "num_files = 3844  # Thay đổi giá trị này nếu cần\n",
        "\n",
        "# Định nghĩa các ký tự cho x và y\n",
        "chars_x = ['a', 'b', 'c', 'd', 'e', 'f', 'g', 'h', 'i', 'j', 'k', 'l', 'm', 'n', 'o', 'p', 'q', 'r', 's', 't', 'u', 'v', 'w', 'x', 'y', 'z', 'A', 'B', 'C', 'D', 'E', 'F', 'G', 'H', 'I', 'J', 'K', 'L', 'M', 'N', 'O', 'P', 'Q', 'R', 'S', 'T', 'U', 'V', 'W', 'X', 'Y', 'Z', '0', '1', '2', '3', '4', '5', '6', '7', '8', '9']  # Ký tự cho x\n",
        "chars_y = ['a', 'b', 'c', 'd', 'e', 'f', 'g', 'h', 'i', 'j', 'k', 'l', 'm', 'n', 'o', 'p', 'q', 'r', 's', 't', 'u', 'v', 'w', 'x', 'y', 'z', 'A', 'B', 'C', 'D', 'E', 'F', 'G', 'H', 'I', 'J', 'K', 'L', 'M', 'N', 'O', 'P', 'Q', 'R', 'S', 'T', 'U', 'V', 'W', 'X', 'Y', 'Z', '0', '1', '2', '3', '4', '5', '6', '7', '8', '9']  # Ký tự cho y\n",
        "\n",
        "# Tạo danh sách file_paths\n",
        "file_paths = []\n",
        "for cx in chars_x:\n",
        "    for cy in chars_y:\n",
        "        file_path = f\"yt8m_data/train{cx}{cy}.tfrecord\"\n",
        "        file_paths.append(file_path)\n",
        "        if len(file_paths) >= num_files:  # Giới hạn số lượng file\n",
        "            break\n",
        "    if len(file_paths) >= num_files:\n",
        "        break\n",
        "\n",
        "# Tạo dataset cho từng file\n",
        "datasets = [create_dataset(fp) for fp in file_paths]\n",
        "\n",
        "\n",
        "# Kết hợp tất cả các datasets thành một\n",
        "full_dataset = datasets[0]\n",
        "for ds in datasets[1:]:\n",
        "    full_dataset = full_dataset.concatenate(ds)\n",
        "\n",
        "# Lấy một số mẫu từ dataset để kiểm tra\n",
        "for data in full_dataset.take(1):\n",
        "    print(data)\n"
      ],
      "metadata": {
        "colab": {
          "base_uri": "https://localhost:8080/"
        },
        "id": "EnTRQCebJjnA",
        "outputId": "b6585f93-b92c-449c-9090-b0236eb473db"
      },
      "execution_count": 3,
      "outputs": [
        {
          "output_type": "stream",
          "name": "stdout",
          "text": [
            "{'labels': <tf.Tensor: shape=(6,), dtype=int64, numpy=array([  0,   1,   5,  69, 378, 597])>, 'id': <tf.Tensor: shape=(), dtype=string, numpy=b'mpaa'>, 'mean_audio': <tf.Tensor: shape=(128,), dtype=float32, numpy=\n",
            "array([ 0.2909387 ,  0.2640953 , -1.3249685 ,  0.18124525, -0.3696523 ,\n",
            "       -1.4134524 , -0.1309337 , -0.99610907,  0.2916015 , -0.7138666 ,\n",
            "       -1.0553192 , -0.13877684, -1.0889012 , -0.02831012,  0.6336065 ,\n",
            "        0.50789535,  0.91352916,  0.21107127, -0.02499612, -0.28039518,\n",
            "       -0.51347995,  0.85487133, -0.66835433,  0.26508948, -0.01682158,\n",
            "        0.31932867,  0.0722146 ,  0.0814938 , -0.77230346,  1.2726564 ,\n",
            "       -0.01925185,  0.16412291, -0.5120439 ,  0.22819361,  0.67690945,\n",
            "       -0.21058021,  0.06481333, -0.888404  ,  0.04879566, -0.16473652,\n",
            "        0.0114579 , -0.22063269, -0.18053326,  0.08237754, -0.7503206 ,\n",
            "        0.46934247, -0.9624167 ,  0.8739821 ,  0.3453988 ,  0.37489343,\n",
            "        0.6412287 ,  0.7562245 ,  0.08160427, -0.66923803,  0.5306515 ,\n",
            "        0.09938941, -0.18451007, -0.74877405, -0.40235043, -0.15026538,\n",
            "        0.42626044, -0.76037306, -0.25697625,  0.5869895 , -0.06233387,\n",
            "        0.10966282, -0.06111873, -0.36821622,  0.18290226,  0.16688459,\n",
            "        0.5841174 , -0.15015492,  0.10049408, -0.48431674,  0.19958273,\n",
            "       -0.13369536, -0.4724968 , -0.8488569 , -0.23952249,  0.02040571,\n",
            "       -0.12054983,  0.32131705,  0.56489617, -0.18738219,  0.29911324,\n",
            "       -0.21444654,  0.56898344, -0.24581909, -0.6147779 ,  0.04283045,\n",
            "       -0.87890387, -0.5162416 ,  0.57461727,  0.8662494 , -0.33496574,\n",
            "       -0.56330043, -1.1122096 ,  0.37279454, -0.07194448, -0.334082  ,\n",
            "        0.5412563 ,  0.5511983 , -0.07393287,  0.3367824 ,  0.49850568,\n",
            "       -0.22383621,  0.1581577 , -0.32104692, -0.46564788, -0.3277854 ,\n",
            "       -0.24659236, -0.329111  , -0.13502097, -0.1276197 ,  0.6510602 ,\n",
            "       -0.62472   ,  0.04470839, -0.73993677, -0.4791248 ,  0.33159047,\n",
            "        0.17351258, -0.18174839,  0.23791468, -0.6630519 , -0.45736286,\n",
            "        0.5369481 ,  0.08348221, -0.5262941 ], dtype=float32)>}\n"
          ]
        }
      ]
    },
    {
      "cell_type": "code",
      "source": [
        "import numpy as np\n",
        "\n",
        "# Hàm để tìm số lượng nhãn duy nhất (num_classes) trong dataset\n",
        "def get_num_classes(dataset):\n",
        "    unique_labels = set()  # Sử dụng set để lưu trữ các nhãn duy nhất\n",
        "    for data in dataset:\n",
        "        labels = data['labels'].numpy()  # Lấy nhãn từ bản ghi\n",
        "        unique_labels.update(labels)  # Cập nhật tập hợp các nhãn duy nhất\n",
        "    print(len(unique_labels))\n",
        "    return len(unique_labels)  # Trả về số lượng nhãn duy nhất\n",
        "\n",
        "# Hàm để trích xuất X và y từ dataset\n",
        "def get_X_y_from_dataset(dataset):\n",
        "    num_classes = get_num_classes(dataset)  # Tính số lượng lớp\n",
        "    X = []\n",
        "    y = []\n",
        "    for data in dataset:\n",
        "        X.append(data['mean_audio'].numpy())  # Lấy dữ liệu từ mean_audio\n",
        "        labels = data['labels'].numpy()  # Lấy nhãn từ trường labels\n",
        "\n",
        "        # Kiểm tra và đảm bảo không có nhãn nào vượt quá số lượng lớp\n",
        "        valid_labels = labels[labels < num_classes]  # Lọc nhãn hợp lệ\n",
        "        one_hot_labels = np.zeros(num_classes)  # Giả sử có lớp\n",
        "        one_hot_labels[valid_labels] = 1  # Đánh dấu các nhãn hợp lệ\n",
        "        y.append(one_hot_labels)\n",
        "\n",
        "    return np.array(X), np.array(y)\n",
        "\n",
        "# Chuyển đổi thành X_train và y_train\n",
        "X_train, y_train = get_X_y_from_dataset(full_dataset)\n",
        "\n",
        "# Kiểm tra kích thước\n",
        "print(\"X_train shape:\", X_train.shape)\n",
        "print(\"y_train shape:\", y_train.shape)\n"
      ],
      "metadata": {
        "id": "vpippvlWJnBc",
        "colab": {
          "base_uri": "https://localhost:8080/"
        },
        "outputId": "a7a0706e-610d-4520-dc99-3e38b9bff503"
      },
      "execution_count": 4,
      "outputs": [
        {
          "output_type": "stream",
          "name": "stdout",
          "text": [
            "3862\n",
            "X_train shape: (3888919, 128)\n",
            "y_train shape: (3888919, 3862)\n"
          ]
        }
      ]
    },
    {
      "cell_type": "code",
      "source": [
        "from tensorflow.keras.models import Sequential\n",
        "from tensorflow.keras.layers import Dense\n",
        "\n",
        "# Xây dựng mô hình\n",
        "model = Sequential([\n",
        "    Dense(512, activation='relu', input_shape=(128,)),  # mean_audio có kích thước 128\n",
        "    Dense(256, activation='relu'),\n",
        "    Dense(128, activation='relu'),\n",
        "    Dense(3862, activation='sigmoid')  # Sử dụng sigmoid cho multi-label classification\n",
        "])\n",
        "\n",
        "# Compile mô hình với loss function phù hợp\n",
        "model.compile(optimizer='adam', loss='binary_crossentropy', metrics=['accuracy'])\n",
        "\n",
        "# Hiển thị cấu trúc mô hình\n",
        "model.summary()\n"
      ],
      "metadata": {
        "colab": {
          "base_uri": "https://localhost:8080/"
        },
        "id": "hKRHyTXMJpww",
        "outputId": "ab2b02b8-c869-4b4f-d234-523ce0317693"
      },
      "execution_count": 5,
      "outputs": [
        {
          "output_type": "stream",
          "name": "stdout",
          "text": [
            "Model: \"sequential\"\n",
            "_________________________________________________________________\n",
            " Layer (type)                Output Shape              Param #   \n",
            "=================================================================\n",
            " dense (Dense)               (None, 512)               66048     \n",
            "                                                                 \n",
            " dense_1 (Dense)             (None, 256)               131328    \n",
            "                                                                 \n",
            " dense_2 (Dense)             (None, 128)               32896     \n",
            "                                                                 \n",
            " dense_3 (Dense)             (None, 3862)              498198    \n",
            "                                                                 \n",
            "=================================================================\n",
            "Total params: 728470 (2.78 MB)\n",
            "Trainable params: 728470 (2.78 MB)\n",
            "Non-trainable params: 0 (0.00 Byte)\n",
            "_________________________________________________________________\n"
          ]
        }
      ]
    },
    {
      "cell_type": "code",
      "source": [
        "import numpy as np\n",
        "from keras.models import Sequential\n",
        "from keras.layers import Dense\n",
        "\n",
        "# Giả sử bạn đã có X_train và y_train\n",
        "num_classes = get_num_classes(full_dataset)  # Tính số lớp\n",
        "\n",
        "# Tạo mô hình\n",
        "model = Sequential()\n",
        "model.add(Dense(128, activation='relu', input_shape=(X_train.shape[1],)))  # Đầu vào\n",
        "model.add(Dense(num_classes, activation='sigmoid'))  # Đầu ra\n",
        "\n",
        "# Biên dịch mô hình\n",
        "model.compile(optimizer='adam', loss='binary_crossentropy', metrics=['accuracy'])\n",
        "\n",
        "# Huấn luyện mô hình\n",
        "model.fit(X_train, y_train, epochs=10, batch_size=32)\n"
      ],
      "metadata": {
        "id": "e9Ajtq_GhX-n"
      },
      "execution_count": null,
      "outputs": []
    },
    {
      "cell_type": "code",
      "source": [
        "\n",
        "\n",
        "# Lưu mô hình đã huấn luyện\n",
        "model.save('video_recommendation_model.h5')\n"
      ],
      "metadata": {
        "colab": {
          "base_uri": "https://localhost:8080/"
        },
        "id": "bKoId8FFJsci",
        "outputId": "642824f8-2ee9-4797-a116-4ce1d4980291"
      },
      "execution_count": 31,
      "outputs": [
        {
          "output_type": "stream",
          "name": "stderr",
          "text": [
            "/usr/local/lib/python3.10/dist-packages/keras/src/engine/training.py:3103: UserWarning: You are saving your model as an HDF5 file via `model.save()`. This file format is considered legacy. We recommend using instead the native Keras format, e.g. `model.save('my_model.keras')`.\n",
            "  saving_api.save_model(\n"
          ]
        }
      ]
    },
    {
      "cell_type": "code",
      "source": [
        "# Dự đoán nhãn cho dữ liệu mới\n",
        "predictions = model.predict(X_train[:5])  # Dự đoán cho 5 mẫu đầu tiên\n",
        "print(\"Predictions: \", predictions)\n",
        "\n",
        "# Đánh giá mô hình\n",
        "loss, accuracy = model.evaluate(X_train, y_train)\n",
        "print(f\"Loss: {loss}, Accuracy: {accuracy}\")\n"
      ],
      "metadata": {
        "colab": {
          "base_uri": "https://localhost:8080/"
        },
        "id": "8DrDCTN0JxB0",
        "outputId": "799277fa-b10c-4f9f-e1dc-a05ba6711427"
      },
      "execution_count": 32,
      "outputs": [
        {
          "output_type": "stream",
          "name": "stdout",
          "text": [
            "1/1 [==============================] - 0s 72ms/step\n",
            "Predictions:  [[8.7235463e-01 8.2029647e-01 2.9386684e-02 ... 1.7960519e-04\n",
            "  2.9695936e-04 1.6284011e-04]\n",
            " [8.1782532e-01 8.7422264e-01 1.4074171e-02 ... 1.8082128e-05\n",
            "  5.7558871e-05 3.9397852e-05]\n",
            " [2.7415074e-02 1.1657115e-02 4.0635854e-02 ... 2.8127439e-05\n",
            "  4.0911742e-05 3.9143568e-05]\n",
            " [7.7827625e-02 4.5229089e-02 2.0436260e-01 ... 1.7327612e-04\n",
            "  3.6897938e-04 2.8344768e-04]\n",
            " [1.9889239e-03 5.0537038e-04 6.0656253e-02 ... 6.1273146e-05\n",
            "  2.7031227e-05 2.6381054e-05]]\n",
            "315/315 [==============================] - 1s 2ms/step - loss: 0.0040 - accuracy: 0.3978\n",
            "Loss: 0.004015731159597635, Accuracy: 0.3977510333061218\n"
          ]
        }
      ]
    }
  ]
}